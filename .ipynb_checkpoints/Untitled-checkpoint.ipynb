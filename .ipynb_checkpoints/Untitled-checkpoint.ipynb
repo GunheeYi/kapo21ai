{
 "cells": [
  {
   "cell_type": "code",
   "execution_count": null,
   "metadata": {},
   "outputs": [],
   "source": [
    "import torch\n",
    "import torch.nn as nn\n",
    "import torch.nn.functional as F\n",
    "import torch.utils.data as data_utils\n",
    "from math import sqrt\n",
    "from board import *\n",
    "from ai import *"
   ]
  },
  {
   "cell_type": "code",
   "execution_count": null,
   "metadata": {},
   "outputs": [],
   "source": [
    "EPOCHS = 10\n",
    "LEARNRATE = 0.01\n",
    "\n",
    "class loss_dummy(torch.nn.Module):\n",
    "    def __init__(self):\n",
    "        super(loss_dummy,self).__init__()\n",
    "    \n",
    "    def forward(self, net, draw=False):\n",
    "        board = Board()\n",
    "        playerA = Player(A, net)\n",
    "        while True:\n",
    "            commands = playerA.call(board)\n",
    "            board.move(commands)\n",
    "            if draw: print(board)\n",
    "            if result:=board.winner() is not None:\n",
    "                team, diff = result\n",
    "                return diff if team==A else -diff\n",
    "\n",
    "def train():\n",
    "    print(\"Starting training...\")\n",
    "    for epoch in range(10):\n",
    "        net = KaPo21Net(RANGE).to('cpu')\n",
    "        optimizer = torch.optim.Adam(net.parameters(), lr=LEARNRATE)\n",
    "        loss = loss_dummy(net)\n",
    "        optimizer.zero_grad()\n",
    "        loss.backward()\n",
    "        optimizer.step()\n",
    "        print(\"Epoch {}, loss {}\".format(epoch, loss))\n",
    "    loss_dummy(net, True)"
   ]
  },
  {
   "cell_type": "code",
   "execution_count": null,
   "metadata": {},
   "outputs": [],
   "source": [
    "train()"
   ]
  },
  {
   "cell_type": "code",
   "execution_count": null,
   "metadata": {},
   "outputs": [],
   "source": []
  },
  {
   "cell_type": "code",
   "execution_count": null,
   "metadata": {},
   "outputs": [],
   "source": []
  },
  {
   "cell_type": "code",
   "execution_count": null,
   "metadata": {},
   "outputs": [],
   "source": []
  }
 ],
 "metadata": {
  "kernelspec": {
   "display_name": "Python 3",
   "language": "python",
   "name": "python3"
  },
  "language_info": {
   "codemirror_mode": {
    "name": "ipython",
    "version": 3
   },
   "file_extension": ".py",
   "mimetype": "text/x-python",
   "name": "python",
   "nbconvert_exporter": "python",
   "pygments_lexer": "ipython3",
   "version": "3.8.5"
  }
 },
 "nbformat": 4,
 "nbformat_minor": 4
}
